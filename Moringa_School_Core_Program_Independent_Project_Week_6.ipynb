{
  "nbformat": 4,
  "nbformat_minor": 0,
  "metadata": {
    "colab": {
      "name": "Moringa School Core Program Independent Project- Week 6.ipynb",
      "provenance": [],
      "collapsed_sections": [],
      "authorship_tag": "ABX9TyO7gh6QJhK7F6vZVebLYL6T",
      "include_colab_link": true
    },
    "kernelspec": {
      "name": "python3",
      "display_name": "Python 3"
    },
    "language_info": {
      "name": "python"
    }
  },
  "cells": [
    {
      "cell_type": "markdown",
      "metadata": {
        "id": "view-in-github",
        "colab_type": "text"
      },
      "source": [
        "<a href=\"https://colab.research.google.com/github/K-Kilel/Predicting-the-results-of-a-football/blob/main/Moringa_School_Core_Program_Independent_Project_Week_6.ipynb\" target=\"_parent\"><img src=\"https://colab.research.google.com/assets/colab-badge.svg\" alt=\"Open In Colab\"/></a>"
      ]
    },
    {
      "cell_type": "markdown",
      "metadata": {
        "id": "vpI2cBlktG-y"
      },
      "source": [
        "**PREDICTING THE RESULTS OF A FOOTBALL GAME**\n",
        "\n",
        "**RESEARCH QUESTION**\n",
        "\n",
        "I have been tasked to act as the football analyst for the Mchezopesa Limted Company to predict the result of a game between team 1 and team 2, based on who's home and who's away, and on whether or not the game is friendly (including the rank in my training).\n",
        "\n",
        "\n",
        "**METRICS FOR SUCCESS**\n",
        "\n",
        "To create two models that are reliable and accurate to predict:\n",
        "\n",
        "*   Model 1: how many goals the home team scores.\n",
        "*   Model 2:  how many goals the away team scores.\n",
        "\n",
        "\n",
        "**UNDERSTANDING THE CONTEXT**\n",
        "\n",
        "Football or soccer has become a sensational game accross the globe with supporters and fans in each and every region of the world. A rise has been noticed in the use of data by organizations and individuals to enhance the game and gain competitive advantage. \n",
        "FIFA, football governing body, has ranked countries based on the past results in various global tournaments. We will use the datasets from FIFA to create the models.\n",
        "\n",
        "\n",
        "**EXPERIMENTAL DESIGN**\n",
        "\n",
        "*  Perform your EDA\n",
        "\n",
        "*   Perform any necessary feature engineering \n",
        "\n",
        "*  Check of multicollinearity\n",
        "\n",
        "*   Start building the model\n",
        "\n",
        "  *  Approach 1: Polynomial approach\n",
        "\n",
        "      *  Model 1: Predict how many goals the home team scores.\n",
        "      *   Model 2: Predict how many goals the away team scores.\n",
        "\n",
        "  *   Approach 2: Logistic approach\n",
        "\n",
        "      *  Feature Engineering: Figure out from the home team’s perspective if the game is a Win, Lose or Draw (W, L, D)\n",
        "\n",
        "*   Cross-validate the model\n",
        "\n",
        "*   Compute RMSE\n",
        "\n",
        "*  Create residual plots for your models, and assess their heteroscedasticity using Bartlett’s test.\n",
        "\n",
        "*   Perform appropriate regressions on the data including your justification\n",
        "\n",
        "*   Challenge your solution by providing insights on how you can make improvements.\n",
        "\n",
        "\n",
        "**DATA RELEVANCE**\n",
        "\n",
        "These datasets have been extracted from the FIFA official website. \n",
        "\n",
        "The two datasets are:\n",
        "\n",
        "*   Rank Dataset - contains team rankings from 1993 to 2018.\n",
        "*   Results Dataset - contains games and the team scores from 1892 to 2019.\n",
        "\n",
        "Here is the link to the datasets: \n",
        "\n",
        "  *  https://drive.google.com/file/d/1BYUqaEEnFtAe5lvzJh9lpVpR2MAvERUc/view\n",
        "\n",
        "\n",
        "\n",
        "\n"
      ]
    },
    {
      "cell_type": "markdown",
      "metadata": {
        "id": "9w_0AgRK02UZ"
      },
      "source": [
        "## **Reading the Data**"
      ]
    },
    {
      "cell_type": "code",
      "metadata": {
        "id": "uFiB_0Zeqb2a"
      },
      "source": [
        "# Importing Libraries \n",
        "import pandas as pd \n",
        "import numpy as np \n",
        "import seaborn as sns\n",
        "import matplotlib.pyplot as plt\n",
        "%matplotlib inline\n",
        "import scipy as sp\n",
        "\n",
        "from sklearn import linear_model, datasets\n",
        "from sklearn.preprocessing import LabelEncoder\n",
        "from sklearn.preprocessing import PolynomialFeatures\n",
        "from sklearn.model_selection import train_test_split\n",
        "from sklearn.linear_model import LogisticRegression\n",
        "from sklearn import metrics\n",
        "from sklearn.metrics import classification_report\n",
        "from sklearn.metrics import confusion_matrix\n",
        "from sklearn.metrics import accuracy_score\n",
        "from sklearn.model_selection import GridSearchCV, KFold, StratifiedKFold, cross_val_score\n",
        "from sklearn.preprocessing import StandardScaler\n",
        "from sklearn.metrics import mean_squared_error\n",
        "from sklearn.linear_model import LinearRegression\n",
        "from sklearn.model_selection import RepeatedKFold\n"
      ],
      "execution_count": 245,
      "outputs": []
    },
    {
      "cell_type": "code",
      "metadata": {
        "id": "K6106f7ssaM7"
      },
      "source": [
        "# Loading the datasets\n",
        "df_rank = pd.read_csv('fifa_ranking.csv')\n",
        "df_results = pd.read_csv('results.csv')"
      ],
      "execution_count": 162,
      "outputs": []
    },
    {
      "cell_type": "markdown",
      "metadata": {
        "id": "iz0NiLOW1kV2"
      },
      "source": [
        "## **Checking the data**"
      ]
    },
    {
      "cell_type": "code",
      "metadata": {
        "colab": {
          "base_uri": "https://localhost:8080/"
        },
        "id": "oNMldFuz2Bb4",
        "outputId": "0b65d0a8-2ee0-4f6a-943c-1b95b2bdeaa2"
      },
      "source": [
        "# Determining the number of records\n",
        "\n",
        "print('The rank dataset has', df_rank.shape[0], 'rows and', df_rank.shape[1], 'columns.')\n",
        "print('The results dataset has', df_results.shape[0], 'rows and', df_results.shape[1], 'columns.')"
      ],
      "execution_count": 163,
      "outputs": [
        {
          "output_type": "stream",
          "name": "stdout",
          "text": [
            "The rank dataset has 57793 rows and 16 columns.\n",
            "The results dataset has 40839 rows and 9 columns.\n"
          ]
        }
      ]
    },
    {
      "cell_type": "code",
      "metadata": {
        "colab": {
          "base_uri": "https://localhost:8080/",
          "height": 224
        },
        "id": "04MV8g_h4KtO",
        "outputId": "774b9bb2-e9dc-454c-9bb8-d5756ae1aeba"
      },
      "source": [
        "# Previewing the top records of rank dataset\n",
        "\n",
        "df_rank.head()"
      ],
      "execution_count": 164,
      "outputs": [
        {
          "output_type": "execute_result",
          "data": {
            "text/html": [
              "<div>\n",
              "<style scoped>\n",
              "    .dataframe tbody tr th:only-of-type {\n",
              "        vertical-align: middle;\n",
              "    }\n",
              "\n",
              "    .dataframe tbody tr th {\n",
              "        vertical-align: top;\n",
              "    }\n",
              "\n",
              "    .dataframe thead th {\n",
              "        text-align: right;\n",
              "    }\n",
              "</style>\n",
              "<table border=\"1\" class=\"dataframe\">\n",
              "  <thead>\n",
              "    <tr style=\"text-align: right;\">\n",
              "      <th></th>\n",
              "      <th>rank</th>\n",
              "      <th>country_full</th>\n",
              "      <th>country_abrv</th>\n",
              "      <th>total_points</th>\n",
              "      <th>previous_points</th>\n",
              "      <th>rank_change</th>\n",
              "      <th>cur_year_avg</th>\n",
              "      <th>cur_year_avg_weighted</th>\n",
              "      <th>last_year_avg</th>\n",
              "      <th>last_year_avg_weighted</th>\n",
              "      <th>two_year_ago_avg</th>\n",
              "      <th>two_year_ago_weighted</th>\n",
              "      <th>three_year_ago_avg</th>\n",
              "      <th>three_year_ago_weighted</th>\n",
              "      <th>confederation</th>\n",
              "      <th>rank_date</th>\n",
              "    </tr>\n",
              "  </thead>\n",
              "  <tbody>\n",
              "    <tr>\n",
              "      <th>0</th>\n",
              "      <td>1</td>\n",
              "      <td>Germany</td>\n",
              "      <td>GER</td>\n",
              "      <td>0.0</td>\n",
              "      <td>57</td>\n",
              "      <td>0</td>\n",
              "      <td>0.0</td>\n",
              "      <td>0.0</td>\n",
              "      <td>0.0</td>\n",
              "      <td>0.0</td>\n",
              "      <td>0.0</td>\n",
              "      <td>0.0</td>\n",
              "      <td>0.0</td>\n",
              "      <td>0.0</td>\n",
              "      <td>UEFA</td>\n",
              "      <td>1993-08-08</td>\n",
              "    </tr>\n",
              "    <tr>\n",
              "      <th>1</th>\n",
              "      <td>2</td>\n",
              "      <td>Italy</td>\n",
              "      <td>ITA</td>\n",
              "      <td>0.0</td>\n",
              "      <td>57</td>\n",
              "      <td>0</td>\n",
              "      <td>0.0</td>\n",
              "      <td>0.0</td>\n",
              "      <td>0.0</td>\n",
              "      <td>0.0</td>\n",
              "      <td>0.0</td>\n",
              "      <td>0.0</td>\n",
              "      <td>0.0</td>\n",
              "      <td>0.0</td>\n",
              "      <td>UEFA</td>\n",
              "      <td>1993-08-08</td>\n",
              "    </tr>\n",
              "    <tr>\n",
              "      <th>2</th>\n",
              "      <td>3</td>\n",
              "      <td>Switzerland</td>\n",
              "      <td>SUI</td>\n",
              "      <td>0.0</td>\n",
              "      <td>50</td>\n",
              "      <td>9</td>\n",
              "      <td>0.0</td>\n",
              "      <td>0.0</td>\n",
              "      <td>0.0</td>\n",
              "      <td>0.0</td>\n",
              "      <td>0.0</td>\n",
              "      <td>0.0</td>\n",
              "      <td>0.0</td>\n",
              "      <td>0.0</td>\n",
              "      <td>UEFA</td>\n",
              "      <td>1993-08-08</td>\n",
              "    </tr>\n",
              "    <tr>\n",
              "      <th>3</th>\n",
              "      <td>4</td>\n",
              "      <td>Sweden</td>\n",
              "      <td>SWE</td>\n",
              "      <td>0.0</td>\n",
              "      <td>55</td>\n",
              "      <td>0</td>\n",
              "      <td>0.0</td>\n",
              "      <td>0.0</td>\n",
              "      <td>0.0</td>\n",
              "      <td>0.0</td>\n",
              "      <td>0.0</td>\n",
              "      <td>0.0</td>\n",
              "      <td>0.0</td>\n",
              "      <td>0.0</td>\n",
              "      <td>UEFA</td>\n",
              "      <td>1993-08-08</td>\n",
              "    </tr>\n",
              "    <tr>\n",
              "      <th>4</th>\n",
              "      <td>5</td>\n",
              "      <td>Argentina</td>\n",
              "      <td>ARG</td>\n",
              "      <td>0.0</td>\n",
              "      <td>51</td>\n",
              "      <td>5</td>\n",
              "      <td>0.0</td>\n",
              "      <td>0.0</td>\n",
              "      <td>0.0</td>\n",
              "      <td>0.0</td>\n",
              "      <td>0.0</td>\n",
              "      <td>0.0</td>\n",
              "      <td>0.0</td>\n",
              "      <td>0.0</td>\n",
              "      <td>CONMEBOL</td>\n",
              "      <td>1993-08-08</td>\n",
              "    </tr>\n",
              "  </tbody>\n",
              "</table>\n",
              "</div>"
            ],
            "text/plain": [
              "   rank country_full  ... confederation   rank_date\n",
              "0     1      Germany  ...          UEFA  1993-08-08\n",
              "1     2        Italy  ...          UEFA  1993-08-08\n",
              "2     3  Switzerland  ...          UEFA  1993-08-08\n",
              "3     4       Sweden  ...          UEFA  1993-08-08\n",
              "4     5    Argentina  ...      CONMEBOL  1993-08-08\n",
              "\n",
              "[5 rows x 16 columns]"
            ]
          },
          "metadata": {},
          "execution_count": 164
        }
      ]
    },
    {
      "cell_type": "code",
      "metadata": {
        "colab": {
          "base_uri": "https://localhost:8080/",
          "height": 204
        },
        "id": "0GVvyn_04h8e",
        "outputId": "54b4f6dc-3468-4326-8aa0-d65f2fd2c2f1"
      },
      "source": [
        "# Previewing the top records of result dataset\n",
        "\n",
        "df_results.head()"
      ],
      "execution_count": 165,
      "outputs": [
        {
          "output_type": "execute_result",
          "data": {
            "text/html": [
              "<div>\n",
              "<style scoped>\n",
              "    .dataframe tbody tr th:only-of-type {\n",
              "        vertical-align: middle;\n",
              "    }\n",
              "\n",
              "    .dataframe tbody tr th {\n",
              "        vertical-align: top;\n",
              "    }\n",
              "\n",
              "    .dataframe thead th {\n",
              "        text-align: right;\n",
              "    }\n",
              "</style>\n",
              "<table border=\"1\" class=\"dataframe\">\n",
              "  <thead>\n",
              "    <tr style=\"text-align: right;\">\n",
              "      <th></th>\n",
              "      <th>date</th>\n",
              "      <th>home_team</th>\n",
              "      <th>away_team</th>\n",
              "      <th>home_score</th>\n",
              "      <th>away_score</th>\n",
              "      <th>tournament</th>\n",
              "      <th>city</th>\n",
              "      <th>country</th>\n",
              "      <th>neutral</th>\n",
              "    </tr>\n",
              "  </thead>\n",
              "  <tbody>\n",
              "    <tr>\n",
              "      <th>0</th>\n",
              "      <td>1872-11-30</td>\n",
              "      <td>Scotland</td>\n",
              "      <td>England</td>\n",
              "      <td>0</td>\n",
              "      <td>0</td>\n",
              "      <td>Friendly</td>\n",
              "      <td>Glasgow</td>\n",
              "      <td>Scotland</td>\n",
              "      <td>False</td>\n",
              "    </tr>\n",
              "    <tr>\n",
              "      <th>1</th>\n",
              "      <td>1873-03-08</td>\n",
              "      <td>England</td>\n",
              "      <td>Scotland</td>\n",
              "      <td>4</td>\n",
              "      <td>2</td>\n",
              "      <td>Friendly</td>\n",
              "      <td>London</td>\n",
              "      <td>England</td>\n",
              "      <td>False</td>\n",
              "    </tr>\n",
              "    <tr>\n",
              "      <th>2</th>\n",
              "      <td>1874-03-07</td>\n",
              "      <td>Scotland</td>\n",
              "      <td>England</td>\n",
              "      <td>2</td>\n",
              "      <td>1</td>\n",
              "      <td>Friendly</td>\n",
              "      <td>Glasgow</td>\n",
              "      <td>Scotland</td>\n",
              "      <td>False</td>\n",
              "    </tr>\n",
              "    <tr>\n",
              "      <th>3</th>\n",
              "      <td>1875-03-06</td>\n",
              "      <td>England</td>\n",
              "      <td>Scotland</td>\n",
              "      <td>2</td>\n",
              "      <td>2</td>\n",
              "      <td>Friendly</td>\n",
              "      <td>London</td>\n",
              "      <td>England</td>\n",
              "      <td>False</td>\n",
              "    </tr>\n",
              "    <tr>\n",
              "      <th>4</th>\n",
              "      <td>1876-03-04</td>\n",
              "      <td>Scotland</td>\n",
              "      <td>England</td>\n",
              "      <td>3</td>\n",
              "      <td>0</td>\n",
              "      <td>Friendly</td>\n",
              "      <td>Glasgow</td>\n",
              "      <td>Scotland</td>\n",
              "      <td>False</td>\n",
              "    </tr>\n",
              "  </tbody>\n",
              "</table>\n",
              "</div>"
            ],
            "text/plain": [
              "         date home_team away_team  ...     city   country neutral\n",
              "0  1872-11-30  Scotland   England  ...  Glasgow  Scotland   False\n",
              "1  1873-03-08   England  Scotland  ...   London   England   False\n",
              "2  1874-03-07  Scotland   England  ...  Glasgow  Scotland   False\n",
              "3  1875-03-06   England  Scotland  ...   London   England   False\n",
              "4  1876-03-04  Scotland   England  ...  Glasgow  Scotland   False\n",
              "\n",
              "[5 rows x 9 columns]"
            ]
          },
          "metadata": {},
          "execution_count": 165
        }
      ]
    },
    {
      "cell_type": "code",
      "metadata": {
        "colab": {
          "base_uri": "https://localhost:8080/",
          "height": 224
        },
        "id": "wo-mAAEH4jvu",
        "outputId": "5c50b718-5124-40dd-fa12-2b5583c3c006"
      },
      "source": [
        "# Previewing the bottom records of rank dataset\n",
        "\n",
        "df_rank.tail()"
      ],
      "execution_count": 166,
      "outputs": [
        {
          "output_type": "execute_result",
          "data": {
            "text/html": [
              "<div>\n",
              "<style scoped>\n",
              "    .dataframe tbody tr th:only-of-type {\n",
              "        vertical-align: middle;\n",
              "    }\n",
              "\n",
              "    .dataframe tbody tr th {\n",
              "        vertical-align: top;\n",
              "    }\n",
              "\n",
              "    .dataframe thead th {\n",
              "        text-align: right;\n",
              "    }\n",
              "</style>\n",
              "<table border=\"1\" class=\"dataframe\">\n",
              "  <thead>\n",
              "    <tr style=\"text-align: right;\">\n",
              "      <th></th>\n",
              "      <th>rank</th>\n",
              "      <th>country_full</th>\n",
              "      <th>country_abrv</th>\n",
              "      <th>total_points</th>\n",
              "      <th>previous_points</th>\n",
              "      <th>rank_change</th>\n",
              "      <th>cur_year_avg</th>\n",
              "      <th>cur_year_avg_weighted</th>\n",
              "      <th>last_year_avg</th>\n",
              "      <th>last_year_avg_weighted</th>\n",
              "      <th>two_year_ago_avg</th>\n",
              "      <th>two_year_ago_weighted</th>\n",
              "      <th>three_year_ago_avg</th>\n",
              "      <th>three_year_ago_weighted</th>\n",
              "      <th>confederation</th>\n",
              "      <th>rank_date</th>\n",
              "    </tr>\n",
              "  </thead>\n",
              "  <tbody>\n",
              "    <tr>\n",
              "      <th>57788</th>\n",
              "      <td>206</td>\n",
              "      <td>Anguilla</td>\n",
              "      <td>AIA</td>\n",
              "      <td>0.0</td>\n",
              "      <td>0</td>\n",
              "      <td>1</td>\n",
              "      <td>0.0</td>\n",
              "      <td>0.0</td>\n",
              "      <td>0.0</td>\n",
              "      <td>0.0</td>\n",
              "      <td>0.0</td>\n",
              "      <td>0.0</td>\n",
              "      <td>0.0</td>\n",
              "      <td>0.0</td>\n",
              "      <td>CONCACAF</td>\n",
              "      <td>2018-06-07</td>\n",
              "    </tr>\n",
              "    <tr>\n",
              "      <th>57789</th>\n",
              "      <td>206</td>\n",
              "      <td>Bahamas</td>\n",
              "      <td>BAH</td>\n",
              "      <td>0.0</td>\n",
              "      <td>0</td>\n",
              "      <td>1</td>\n",
              "      <td>0.0</td>\n",
              "      <td>0.0</td>\n",
              "      <td>0.0</td>\n",
              "      <td>0.0</td>\n",
              "      <td>0.0</td>\n",
              "      <td>0.0</td>\n",
              "      <td>0.0</td>\n",
              "      <td>0.0</td>\n",
              "      <td>CONCACAF</td>\n",
              "      <td>2018-06-07</td>\n",
              "    </tr>\n",
              "    <tr>\n",
              "      <th>57790</th>\n",
              "      <td>206</td>\n",
              "      <td>Eritrea</td>\n",
              "      <td>ERI</td>\n",
              "      <td>0.0</td>\n",
              "      <td>0</td>\n",
              "      <td>1</td>\n",
              "      <td>0.0</td>\n",
              "      <td>0.0</td>\n",
              "      <td>0.0</td>\n",
              "      <td>0.0</td>\n",
              "      <td>0.0</td>\n",
              "      <td>0.0</td>\n",
              "      <td>0.0</td>\n",
              "      <td>0.0</td>\n",
              "      <td>CAF</td>\n",
              "      <td>2018-06-07</td>\n",
              "    </tr>\n",
              "    <tr>\n",
              "      <th>57791</th>\n",
              "      <td>206</td>\n",
              "      <td>Somalia</td>\n",
              "      <td>SOM</td>\n",
              "      <td>0.0</td>\n",
              "      <td>0</td>\n",
              "      <td>1</td>\n",
              "      <td>0.0</td>\n",
              "      <td>0.0</td>\n",
              "      <td>0.0</td>\n",
              "      <td>0.0</td>\n",
              "      <td>0.0</td>\n",
              "      <td>0.0</td>\n",
              "      <td>0.0</td>\n",
              "      <td>0.0</td>\n",
              "      <td>CAF</td>\n",
              "      <td>2018-06-07</td>\n",
              "    </tr>\n",
              "    <tr>\n",
              "      <th>57792</th>\n",
              "      <td>206</td>\n",
              "      <td>Tonga</td>\n",
              "      <td>TGA</td>\n",
              "      <td>0.0</td>\n",
              "      <td>0</td>\n",
              "      <td>1</td>\n",
              "      <td>0.0</td>\n",
              "      <td>0.0</td>\n",
              "      <td>0.0</td>\n",
              "      <td>0.0</td>\n",
              "      <td>0.0</td>\n",
              "      <td>0.0</td>\n",
              "      <td>0.0</td>\n",
              "      <td>0.0</td>\n",
              "      <td>OFC</td>\n",
              "      <td>2018-06-07</td>\n",
              "    </tr>\n",
              "  </tbody>\n",
              "</table>\n",
              "</div>"
            ],
            "text/plain": [
              "       rank country_full  ... confederation   rank_date\n",
              "57788   206     Anguilla  ...      CONCACAF  2018-06-07\n",
              "57789   206      Bahamas  ...      CONCACAF  2018-06-07\n",
              "57790   206      Eritrea  ...           CAF  2018-06-07\n",
              "57791   206      Somalia  ...           CAF  2018-06-07\n",
              "57792   206        Tonga  ...           OFC  2018-06-07\n",
              "\n",
              "[5 rows x 16 columns]"
            ]
          },
          "metadata": {},
          "execution_count": 166
        }
      ]
    },
    {
      "cell_type": "code",
      "metadata": {
        "colab": {
          "base_uri": "https://localhost:8080/",
          "height": 204
        },
        "id": "ZLtBxR074APU",
        "outputId": "54569833-3367-454c-8ae8-dd6b79e6e9bc"
      },
      "source": [
        "# Previewing the bottom records of result dataset\n",
        "\n",
        "df_results.tail()"
      ],
      "execution_count": 167,
      "outputs": [
        {
          "output_type": "execute_result",
          "data": {
            "text/html": [
              "<div>\n",
              "<style scoped>\n",
              "    .dataframe tbody tr th:only-of-type {\n",
              "        vertical-align: middle;\n",
              "    }\n",
              "\n",
              "    .dataframe tbody tr th {\n",
              "        vertical-align: top;\n",
              "    }\n",
              "\n",
              "    .dataframe thead th {\n",
              "        text-align: right;\n",
              "    }\n",
              "</style>\n",
              "<table border=\"1\" class=\"dataframe\">\n",
              "  <thead>\n",
              "    <tr style=\"text-align: right;\">\n",
              "      <th></th>\n",
              "      <th>date</th>\n",
              "      <th>home_team</th>\n",
              "      <th>away_team</th>\n",
              "      <th>home_score</th>\n",
              "      <th>away_score</th>\n",
              "      <th>tournament</th>\n",
              "      <th>city</th>\n",
              "      <th>country</th>\n",
              "      <th>neutral</th>\n",
              "    </tr>\n",
              "  </thead>\n",
              "  <tbody>\n",
              "    <tr>\n",
              "      <th>40834</th>\n",
              "      <td>2019-07-18</td>\n",
              "      <td>American Samoa</td>\n",
              "      <td>Tahiti</td>\n",
              "      <td>8</td>\n",
              "      <td>1</td>\n",
              "      <td>Pacific Games</td>\n",
              "      <td>Apia</td>\n",
              "      <td>Samoa</td>\n",
              "      <td>True</td>\n",
              "    </tr>\n",
              "    <tr>\n",
              "      <th>40835</th>\n",
              "      <td>2019-07-18</td>\n",
              "      <td>Fiji</td>\n",
              "      <td>Solomon Islands</td>\n",
              "      <td>4</td>\n",
              "      <td>4</td>\n",
              "      <td>Pacific Games</td>\n",
              "      <td>Apia</td>\n",
              "      <td>Samoa</td>\n",
              "      <td>True</td>\n",
              "    </tr>\n",
              "    <tr>\n",
              "      <th>40836</th>\n",
              "      <td>2019-07-19</td>\n",
              "      <td>Senegal</td>\n",
              "      <td>Algeria</td>\n",
              "      <td>0</td>\n",
              "      <td>1</td>\n",
              "      <td>African Cup of Nations</td>\n",
              "      <td>Cairo</td>\n",
              "      <td>Egypt</td>\n",
              "      <td>True</td>\n",
              "    </tr>\n",
              "    <tr>\n",
              "      <th>40837</th>\n",
              "      <td>2019-07-19</td>\n",
              "      <td>Tajikistan</td>\n",
              "      <td>North Korea</td>\n",
              "      <td>0</td>\n",
              "      <td>1</td>\n",
              "      <td>Intercontinental Cup</td>\n",
              "      <td>Ahmedabad</td>\n",
              "      <td>India</td>\n",
              "      <td>True</td>\n",
              "    </tr>\n",
              "    <tr>\n",
              "      <th>40838</th>\n",
              "      <td>2019-07-20</td>\n",
              "      <td>Papua New Guinea</td>\n",
              "      <td>Fiji</td>\n",
              "      <td>1</td>\n",
              "      <td>1</td>\n",
              "      <td>Pacific Games</td>\n",
              "      <td>Apia</td>\n",
              "      <td>Samoa</td>\n",
              "      <td>True</td>\n",
              "    </tr>\n",
              "  </tbody>\n",
              "</table>\n",
              "</div>"
            ],
            "text/plain": [
              "             date         home_team  ... country  neutral\n",
              "40834  2019-07-18    American Samoa  ...   Samoa     True\n",
              "40835  2019-07-18              Fiji  ...   Samoa     True\n",
              "40836  2019-07-19           Senegal  ...   Egypt     True\n",
              "40837  2019-07-19        Tajikistan  ...   India     True\n",
              "40838  2019-07-20  Papua New Guinea  ...   Samoa     True\n",
              "\n",
              "[5 rows x 9 columns]"
            ]
          },
          "metadata": {},
          "execution_count": 167
        }
      ]
    },
    {
      "cell_type": "code",
      "metadata": {
        "colab": {
          "base_uri": "https://localhost:8080/"
        },
        "id": "BDE3yrKG4ikf",
        "outputId": "8e363aa5-0a50-4497-a167-83d137fd11fb"
      },
      "source": [
        "# Checking whether each column has an appropriate datatype\n",
        "print(df_rank.dtypes)\n",
        "print(df_results.dtypes)"
      ],
      "execution_count": 168,
      "outputs": [
        {
          "output_type": "stream",
          "name": "stdout",
          "text": [
            "rank                         int64\n",
            "country_full                object\n",
            "country_abrv                object\n",
            "total_points               float64\n",
            "previous_points              int64\n",
            "rank_change                  int64\n",
            "cur_year_avg               float64\n",
            "cur_year_avg_weighted      float64\n",
            "last_year_avg              float64\n",
            "last_year_avg_weighted     float64\n",
            "two_year_ago_avg           float64\n",
            "two_year_ago_weighted      float64\n",
            "three_year_ago_avg         float64\n",
            "three_year_ago_weighted    float64\n",
            "confederation               object\n",
            "rank_date                   object\n",
            "dtype: object\n",
            "date          object\n",
            "home_team     object\n",
            "away_team     object\n",
            "home_score     int64\n",
            "away_score     int64\n",
            "tournament    object\n",
            "city          object\n",
            "country       object\n",
            "neutral         bool\n",
            "dtype: object\n"
          ]
        }
      ]
    },
    {
      "cell_type": "markdown",
      "metadata": {
        "id": "ZaUPMnW242zy"
      },
      "source": [
        "## **Tidying the Datasets**"
      ]
    },
    {
      "cell_type": "code",
      "metadata": {
        "colab": {
          "base_uri": "https://localhost:8080/"
        },
        "id": "IJJwbq3N4wvw",
        "outputId": "7be7365c-dfb5-4c43-aa10-6e94948865c3"
      },
      "source": [
        "# Identifying missing data\n",
        "\n",
        "print(df_rank.isnull().sum())\n",
        "print(df_results.isnull().sum())"
      ],
      "execution_count": 169,
      "outputs": [
        {
          "output_type": "stream",
          "name": "stdout",
          "text": [
            "rank                       0\n",
            "country_full               0\n",
            "country_abrv               0\n",
            "total_points               0\n",
            "previous_points            0\n",
            "rank_change                0\n",
            "cur_year_avg               0\n",
            "cur_year_avg_weighted      0\n",
            "last_year_avg              0\n",
            "last_year_avg_weighted     0\n",
            "two_year_ago_avg           0\n",
            "two_year_ago_weighted      0\n",
            "three_year_ago_avg         0\n",
            "three_year_ago_weighted    0\n",
            "confederation              0\n",
            "rank_date                  0\n",
            "dtype: int64\n",
            "date          0\n",
            "home_team     0\n",
            "away_team     0\n",
            "home_score    0\n",
            "away_score    0\n",
            "tournament    0\n",
            "city          0\n",
            "country       0\n",
            "neutral       0\n",
            "dtype: int64\n"
          ]
        }
      ]
    },
    {
      "cell_type": "markdown",
      "metadata": {
        "id": "RXoKdLBx51aP"
      },
      "source": [
        "##### Both datasets have no missing data."
      ]
    },
    {
      "cell_type": "code",
      "metadata": {
        "colab": {
          "base_uri": "https://localhost:8080/"
        },
        "id": "NAoQYZYE5rOQ",
        "outputId": "936a97b1-a4cd-4244-f7e0-d78714203742"
      },
      "source": [
        "# Dropping columns that will not be relevant to the study\n",
        "\n",
        "df_rank.drop(['country_abrv', 'total_points', 'cur_year_avg', 'previous_points', 'rank_change','cur_year_avg_weighted', 'last_year_avg', 'last_year_avg_weighted','two_year_ago_avg', 'two_year_ago_weighted', 'three_year_ago_avg','three_year_ago_weighted', 'confederation'], axis = 1, inplace = True)\n",
        "print(df_rank.columns)\n",
        "\n",
        "df_results.drop(['city', 'neutral', 'country'], axis = 1, inplace = True)\n",
        "print(df_results.columns)"
      ],
      "execution_count": 170,
      "outputs": [
        {
          "output_type": "stream",
          "name": "stdout",
          "text": [
            "Index(['rank', 'country_full', 'rank_date'], dtype='object')\n",
            "Index(['date', 'home_team', 'away_team', 'home_score', 'away_score',\n",
            "       'tournament'],\n",
            "      dtype='object')\n"
          ]
        }
      ]
    },
    {
      "cell_type": "code",
      "metadata": {
        "colab": {
          "base_uri": "https://localhost:8080/",
          "height": 204
        },
        "id": "PsqDEWKx8oDY",
        "outputId": "7062fb1f-56ef-4a5f-9f38-a2c57a2ea06f"
      },
      "source": [
        "# Renaming columns in datasets\n",
        "df_rank.rename({'rank': 'home_rank', 'country_full': 'home_team'}, axis = 1, inplace = True)\n",
        "\n",
        "df_rank.head()"
      ],
      "execution_count": 171,
      "outputs": [
        {
          "output_type": "execute_result",
          "data": {
            "text/html": [
              "<div>\n",
              "<style scoped>\n",
              "    .dataframe tbody tr th:only-of-type {\n",
              "        vertical-align: middle;\n",
              "    }\n",
              "\n",
              "    .dataframe tbody tr th {\n",
              "        vertical-align: top;\n",
              "    }\n",
              "\n",
              "    .dataframe thead th {\n",
              "        text-align: right;\n",
              "    }\n",
              "</style>\n",
              "<table border=\"1\" class=\"dataframe\">\n",
              "  <thead>\n",
              "    <tr style=\"text-align: right;\">\n",
              "      <th></th>\n",
              "      <th>home_rank</th>\n",
              "      <th>home_team</th>\n",
              "      <th>rank_date</th>\n",
              "    </tr>\n",
              "  </thead>\n",
              "  <tbody>\n",
              "    <tr>\n",
              "      <th>0</th>\n",
              "      <td>1</td>\n",
              "      <td>Germany</td>\n",
              "      <td>1993-08-08</td>\n",
              "    </tr>\n",
              "    <tr>\n",
              "      <th>1</th>\n",
              "      <td>2</td>\n",
              "      <td>Italy</td>\n",
              "      <td>1993-08-08</td>\n",
              "    </tr>\n",
              "    <tr>\n",
              "      <th>2</th>\n",
              "      <td>3</td>\n",
              "      <td>Switzerland</td>\n",
              "      <td>1993-08-08</td>\n",
              "    </tr>\n",
              "    <tr>\n",
              "      <th>3</th>\n",
              "      <td>4</td>\n",
              "      <td>Sweden</td>\n",
              "      <td>1993-08-08</td>\n",
              "    </tr>\n",
              "    <tr>\n",
              "      <th>4</th>\n",
              "      <td>5</td>\n",
              "      <td>Argentina</td>\n",
              "      <td>1993-08-08</td>\n",
              "    </tr>\n",
              "  </tbody>\n",
              "</table>\n",
              "</div>"
            ],
            "text/plain": [
              "   home_rank    home_team   rank_date\n",
              "0          1      Germany  1993-08-08\n",
              "1          2        Italy  1993-08-08\n",
              "2          3  Switzerland  1993-08-08\n",
              "3          4       Sweden  1993-08-08\n",
              "4          5    Argentina  1993-08-08"
            ]
          },
          "metadata": {},
          "execution_count": 171
        }
      ]
    },
    {
      "cell_type": "code",
      "metadata": {
        "colab": {
          "base_uri": "https://localhost:8080/"
        },
        "id": "4bsUV-spApKH",
        "outputId": "08e9d22c-6f55-46c2-e19a-4138065d1056"
      },
      "source": [
        "# Converting date to date time\n",
        "\n",
        "df_rank['rank_date'] = pd.to_datetime(df_rank['rank_date'])\n",
        "df_results['date'] = pd.to_datetime(df_results['date'])\n",
        "\n",
        "# Checking to confirm conversion of the selected columns to datetime\n",
        "print(df_rank.dtypes)\n",
        "print(df_results.dtypes)"
      ],
      "execution_count": 172,
      "outputs": [
        {
          "output_type": "stream",
          "name": "stdout",
          "text": [
            "home_rank             int64\n",
            "home_team            object\n",
            "rank_date    datetime64[ns]\n",
            "dtype: object\n",
            "date          datetime64[ns]\n",
            "home_team             object\n",
            "away_team             object\n",
            "home_score             int64\n",
            "away_score             int64\n",
            "tournament            object\n",
            "dtype: object\n"
          ]
        }
      ]
    },
    {
      "cell_type": "markdown",
      "metadata": {
        "id": "3OZQp1rVHYGe"
      },
      "source": [
        "## **Feature Engineering**"
      ]
    },
    {
      "cell_type": "code",
      "metadata": {
        "id": "hba6i9_wBlzc"
      },
      "source": [
        "# Changing the tournament to the three categories\n",
        "\n",
        "def tournament(value):\n",
        "  if value == 'Friendly':\n",
        "    return 'Friendly'\n",
        "  elif value == 'FIFA World Cup':\n",
        "    return 'World Cup'\n",
        "  else:\n",
        "    return 'Other'\n",
        "\n",
        "df_results['tournament']= df_results.tournament.apply(lambda v: tournament(v))"
      ],
      "execution_count": 173,
      "outputs": []
    },
    {
      "cell_type": "code",
      "metadata": {
        "colab": {
          "base_uri": "https://localhost:8080/"
        },
        "id": "TK6zvWf9I0WL",
        "outputId": "1d875ae6-11fc-4af9-d996-3688f225ed8a"
      },
      "source": [
        "# Previewing the unique values in the tournament column to ascertain changes\n",
        "df_results['tournament'].unique()"
      ],
      "execution_count": 174,
      "outputs": [
        {
          "output_type": "execute_result",
          "data": {
            "text/plain": [
              "array(['Friendly', 'Other', 'World Cup'], dtype=object)"
            ]
          },
          "metadata": {},
          "execution_count": 174
        }
      ]
    },
    {
      "cell_type": "code",
      "metadata": {
        "colab": {
          "base_uri": "https://localhost:8080/",
          "height": 204
        },
        "id": "CbsVebfaJ4V5",
        "outputId": "d515a7a3-4da4-4aad-fdd5-2e24f0591545"
      },
      "source": [
        "# Adding a status column for the home team and away team\n",
        "\n",
        "df_results['Status'] = df_results['home_score'] - df_results['away_score']\n",
        "\n",
        "def Status(goals):\n",
        "  if goals > 0:\n",
        "    return 'Win'\n",
        "  elif goals < 0:\n",
        "    return 'Loss'\n",
        "  else:\n",
        "    return 'Draw'\n",
        "\n",
        "df_results['Status'] = df_results.Status.apply(lambda goals: Status(goals))\n",
        "\n",
        "# Previewing the Status column to ascertain changes\n",
        "df_results.head()"
      ],
      "execution_count": 175,
      "outputs": [
        {
          "output_type": "execute_result",
          "data": {
            "text/html": [
              "<div>\n",
              "<style scoped>\n",
              "    .dataframe tbody tr th:only-of-type {\n",
              "        vertical-align: middle;\n",
              "    }\n",
              "\n",
              "    .dataframe tbody tr th {\n",
              "        vertical-align: top;\n",
              "    }\n",
              "\n",
              "    .dataframe thead th {\n",
              "        text-align: right;\n",
              "    }\n",
              "</style>\n",
              "<table border=\"1\" class=\"dataframe\">\n",
              "  <thead>\n",
              "    <tr style=\"text-align: right;\">\n",
              "      <th></th>\n",
              "      <th>date</th>\n",
              "      <th>home_team</th>\n",
              "      <th>away_team</th>\n",
              "      <th>home_score</th>\n",
              "      <th>away_score</th>\n",
              "      <th>tournament</th>\n",
              "      <th>Status</th>\n",
              "    </tr>\n",
              "  </thead>\n",
              "  <tbody>\n",
              "    <tr>\n",
              "      <th>0</th>\n",
              "      <td>1872-11-30</td>\n",
              "      <td>Scotland</td>\n",
              "      <td>England</td>\n",
              "      <td>0</td>\n",
              "      <td>0</td>\n",
              "      <td>Friendly</td>\n",
              "      <td>Draw</td>\n",
              "    </tr>\n",
              "    <tr>\n",
              "      <th>1</th>\n",
              "      <td>1873-03-08</td>\n",
              "      <td>England</td>\n",
              "      <td>Scotland</td>\n",
              "      <td>4</td>\n",
              "      <td>2</td>\n",
              "      <td>Friendly</td>\n",
              "      <td>Win</td>\n",
              "    </tr>\n",
              "    <tr>\n",
              "      <th>2</th>\n",
              "      <td>1874-03-07</td>\n",
              "      <td>Scotland</td>\n",
              "      <td>England</td>\n",
              "      <td>2</td>\n",
              "      <td>1</td>\n",
              "      <td>Friendly</td>\n",
              "      <td>Win</td>\n",
              "    </tr>\n",
              "    <tr>\n",
              "      <th>3</th>\n",
              "      <td>1875-03-06</td>\n",
              "      <td>England</td>\n",
              "      <td>Scotland</td>\n",
              "      <td>2</td>\n",
              "      <td>2</td>\n",
              "      <td>Friendly</td>\n",
              "      <td>Draw</td>\n",
              "    </tr>\n",
              "    <tr>\n",
              "      <th>4</th>\n",
              "      <td>1876-03-04</td>\n",
              "      <td>Scotland</td>\n",
              "      <td>England</td>\n",
              "      <td>3</td>\n",
              "      <td>0</td>\n",
              "      <td>Friendly</td>\n",
              "      <td>Win</td>\n",
              "    </tr>\n",
              "  </tbody>\n",
              "</table>\n",
              "</div>"
            ],
            "text/plain": [
              "        date home_team away_team  home_score  away_score tournament Status\n",
              "0 1872-11-30  Scotland   England           0           0   Friendly   Draw\n",
              "1 1873-03-08   England  Scotland           4           2   Friendly    Win\n",
              "2 1874-03-07  Scotland   England           2           1   Friendly    Win\n",
              "3 1875-03-06   England  Scotland           2           2   Friendly   Draw\n",
              "4 1876-03-04  Scotland   England           3           0   Friendly    Win"
            ]
          },
          "metadata": {},
          "execution_count": 175
        }
      ]
    },
    {
      "cell_type": "code",
      "metadata": {
        "colab": {
          "base_uri": "https://localhost:8080/"
        },
        "id": "rubYtgRp12lQ",
        "outputId": "ce8e30cf-6ec0-41e8-e818-caa4c74526c0"
      },
      "source": [
        "# Splitting the date column to year and month\n",
        "\n",
        "df_results['year'] = pd.DatetimeIndex(df_results['date']).year\n",
        "df_results['month'] = pd.DatetimeIndex(df_results['date']).month\n",
        "\n",
        "df_rank['year'] = pd.DatetimeIndex(df_rank['rank_date']).year\n",
        "df_rank['month'] = pd.DatetimeIndex(df_rank['rank_date']).month\n",
        "\n",
        "\n",
        "# Dropping the initial dates\n",
        "df_results.drop(['date'], axis = 1, inplace=True)\n",
        "df_rank.drop(['rank_date'], axis = 1, inplace=True)\n",
        "\n",
        "# Previewing the top records \n",
        "\n",
        "print(df_results.head(2))\n",
        "print(df_rank.head(2))"
      ],
      "execution_count": 176,
      "outputs": [
        {
          "output_type": "stream",
          "name": "stdout",
          "text": [
            "  home_team away_team  home_score  away_score tournament Status  year  month\n",
            "0  Scotland   England           0           0   Friendly   Draw  1872     11\n",
            "1   England  Scotland           4           2   Friendly    Win  1873      3\n",
            "   home_rank home_team  year  month\n",
            "0          1   Germany  1993      8\n",
            "1          2     Italy  1993      8\n"
          ]
        }
      ]
    },
    {
      "cell_type": "code",
      "metadata": {
        "id": "tnei5EA3Mc7h",
        "colab": {
          "base_uri": "https://localhost:8080/",
          "height": 204
        },
        "outputId": "0831c24b-943e-4394-edd4-7c13318acf31"
      },
      "source": [
        "#Merging the datasets to get two two datasets:\n",
        "# 1. Home_merged dataset\n",
        "# 2. Away_merged dataset\n",
        "\n",
        "# Renaming the date column in rank\n",
        "\n",
        "#df_rank.rename({'rank_date': 'date'}, axis = 1, inplace = True)\n",
        "\n",
        "# Merging with home team to get home_merged dataset\n",
        "\n",
        "home_merged = pd.merge(df_results, df_rank, how=\"left\", on = ['home_team', 'year', 'month'])\n",
        "\n",
        "# Previewing the top records to ascertain changes\n",
        "\n",
        "home_merged.head()"
      ],
      "execution_count": 177,
      "outputs": [
        {
          "output_type": "execute_result",
          "data": {
            "text/html": [
              "<div>\n",
              "<style scoped>\n",
              "    .dataframe tbody tr th:only-of-type {\n",
              "        vertical-align: middle;\n",
              "    }\n",
              "\n",
              "    .dataframe tbody tr th {\n",
              "        vertical-align: top;\n",
              "    }\n",
              "\n",
              "    .dataframe thead th {\n",
              "        text-align: right;\n",
              "    }\n",
              "</style>\n",
              "<table border=\"1\" class=\"dataframe\">\n",
              "  <thead>\n",
              "    <tr style=\"text-align: right;\">\n",
              "      <th></th>\n",
              "      <th>home_team</th>\n",
              "      <th>away_team</th>\n",
              "      <th>home_score</th>\n",
              "      <th>away_score</th>\n",
              "      <th>tournament</th>\n",
              "      <th>Status</th>\n",
              "      <th>year</th>\n",
              "      <th>month</th>\n",
              "      <th>home_rank</th>\n",
              "    </tr>\n",
              "  </thead>\n",
              "  <tbody>\n",
              "    <tr>\n",
              "      <th>0</th>\n",
              "      <td>Scotland</td>\n",
              "      <td>England</td>\n",
              "      <td>0</td>\n",
              "      <td>0</td>\n",
              "      <td>Friendly</td>\n",
              "      <td>Draw</td>\n",
              "      <td>1872</td>\n",
              "      <td>11</td>\n",
              "      <td>NaN</td>\n",
              "    </tr>\n",
              "    <tr>\n",
              "      <th>1</th>\n",
              "      <td>England</td>\n",
              "      <td>Scotland</td>\n",
              "      <td>4</td>\n",
              "      <td>2</td>\n",
              "      <td>Friendly</td>\n",
              "      <td>Win</td>\n",
              "      <td>1873</td>\n",
              "      <td>3</td>\n",
              "      <td>NaN</td>\n",
              "    </tr>\n",
              "    <tr>\n",
              "      <th>2</th>\n",
              "      <td>Scotland</td>\n",
              "      <td>England</td>\n",
              "      <td>2</td>\n",
              "      <td>1</td>\n",
              "      <td>Friendly</td>\n",
              "      <td>Win</td>\n",
              "      <td>1874</td>\n",
              "      <td>3</td>\n",
              "      <td>NaN</td>\n",
              "    </tr>\n",
              "    <tr>\n",
              "      <th>3</th>\n",
              "      <td>England</td>\n",
              "      <td>Scotland</td>\n",
              "      <td>2</td>\n",
              "      <td>2</td>\n",
              "      <td>Friendly</td>\n",
              "      <td>Draw</td>\n",
              "      <td>1875</td>\n",
              "      <td>3</td>\n",
              "      <td>NaN</td>\n",
              "    </tr>\n",
              "    <tr>\n",
              "      <th>4</th>\n",
              "      <td>Scotland</td>\n",
              "      <td>England</td>\n",
              "      <td>3</td>\n",
              "      <td>0</td>\n",
              "      <td>Friendly</td>\n",
              "      <td>Win</td>\n",
              "      <td>1876</td>\n",
              "      <td>3</td>\n",
              "      <td>NaN</td>\n",
              "    </tr>\n",
              "  </tbody>\n",
              "</table>\n",
              "</div>"
            ],
            "text/plain": [
              "  home_team away_team  home_score  away_score  ... Status  year  month  home_rank\n",
              "0  Scotland   England           0           0  ...   Draw  1872     11        NaN\n",
              "1   England  Scotland           4           2  ...    Win  1873      3        NaN\n",
              "2  Scotland   England           2           1  ...    Win  1874      3        NaN\n",
              "3   England  Scotland           2           2  ...   Draw  1875      3        NaN\n",
              "4  Scotland   England           3           0  ...    Win  1876      3        NaN\n",
              "\n",
              "[5 rows x 9 columns]"
            ]
          },
          "metadata": {},
          "execution_count": 177
        }
      ]
    },
    {
      "cell_type": "code",
      "metadata": {
        "id": "Mfi0NVGBQJWb",
        "colab": {
          "base_uri": "https://localhost:8080/",
          "height": 204
        },
        "outputId": "38c7f61d-c265-43d9-aa17-2cdb2e69a2dd"
      },
      "source": [
        "# Merging the two datasets to get away_merged dataset\n",
        "\n",
        "# Renaming columns\n",
        "#\n",
        "df_new = df_rank.rename({'home_team': 'away_team', 'home_rank': 'away_rank' }, axis=1)\n",
        "\n",
        "# Merging the datasets\n",
        "merged_df = pd.merge(home_merged, df_new, how= \"left\", on = ['away_team', 'year', 'month'])\n",
        "                  \n",
        "# Previewing the top records to ascertain the changes\n",
        "merged_df.head()\n"
      ],
      "execution_count": 178,
      "outputs": [
        {
          "output_type": "execute_result",
          "data": {
            "text/html": [
              "<div>\n",
              "<style scoped>\n",
              "    .dataframe tbody tr th:only-of-type {\n",
              "        vertical-align: middle;\n",
              "    }\n",
              "\n",
              "    .dataframe tbody tr th {\n",
              "        vertical-align: top;\n",
              "    }\n",
              "\n",
              "    .dataframe thead th {\n",
              "        text-align: right;\n",
              "    }\n",
              "</style>\n",
              "<table border=\"1\" class=\"dataframe\">\n",
              "  <thead>\n",
              "    <tr style=\"text-align: right;\">\n",
              "      <th></th>\n",
              "      <th>home_team</th>\n",
              "      <th>away_team</th>\n",
              "      <th>home_score</th>\n",
              "      <th>away_score</th>\n",
              "      <th>tournament</th>\n",
              "      <th>Status</th>\n",
              "      <th>year</th>\n",
              "      <th>month</th>\n",
              "      <th>home_rank</th>\n",
              "      <th>away_rank</th>\n",
              "    </tr>\n",
              "  </thead>\n",
              "  <tbody>\n",
              "    <tr>\n",
              "      <th>0</th>\n",
              "      <td>Scotland</td>\n",
              "      <td>England</td>\n",
              "      <td>0</td>\n",
              "      <td>0</td>\n",
              "      <td>Friendly</td>\n",
              "      <td>Draw</td>\n",
              "      <td>1872</td>\n",
              "      <td>11</td>\n",
              "      <td>NaN</td>\n",
              "      <td>NaN</td>\n",
              "    </tr>\n",
              "    <tr>\n",
              "      <th>1</th>\n",
              "      <td>England</td>\n",
              "      <td>Scotland</td>\n",
              "      <td>4</td>\n",
              "      <td>2</td>\n",
              "      <td>Friendly</td>\n",
              "      <td>Win</td>\n",
              "      <td>1873</td>\n",
              "      <td>3</td>\n",
              "      <td>NaN</td>\n",
              "      <td>NaN</td>\n",
              "    </tr>\n",
              "    <tr>\n",
              "      <th>2</th>\n",
              "      <td>Scotland</td>\n",
              "      <td>England</td>\n",
              "      <td>2</td>\n",
              "      <td>1</td>\n",
              "      <td>Friendly</td>\n",
              "      <td>Win</td>\n",
              "      <td>1874</td>\n",
              "      <td>3</td>\n",
              "      <td>NaN</td>\n",
              "      <td>NaN</td>\n",
              "    </tr>\n",
              "    <tr>\n",
              "      <th>3</th>\n",
              "      <td>England</td>\n",
              "      <td>Scotland</td>\n",
              "      <td>2</td>\n",
              "      <td>2</td>\n",
              "      <td>Friendly</td>\n",
              "      <td>Draw</td>\n",
              "      <td>1875</td>\n",
              "      <td>3</td>\n",
              "      <td>NaN</td>\n",
              "      <td>NaN</td>\n",
              "    </tr>\n",
              "    <tr>\n",
              "      <th>4</th>\n",
              "      <td>Scotland</td>\n",
              "      <td>England</td>\n",
              "      <td>3</td>\n",
              "      <td>0</td>\n",
              "      <td>Friendly</td>\n",
              "      <td>Win</td>\n",
              "      <td>1876</td>\n",
              "      <td>3</td>\n",
              "      <td>NaN</td>\n",
              "      <td>NaN</td>\n",
              "    </tr>\n",
              "  </tbody>\n",
              "</table>\n",
              "</div>"
            ],
            "text/plain": [
              "  home_team away_team  home_score  ...  month home_rank away_rank\n",
              "0  Scotland   England           0  ...     11       NaN       NaN\n",
              "1   England  Scotland           4  ...      3       NaN       NaN\n",
              "2  Scotland   England           2  ...      3       NaN       NaN\n",
              "3   England  Scotland           2  ...      3       NaN       NaN\n",
              "4  Scotland   England           3  ...      3       NaN       NaN\n",
              "\n",
              "[5 rows x 10 columns]"
            ]
          },
          "metadata": {},
          "execution_count": 178
        }
      ]
    },
    {
      "cell_type": "code",
      "metadata": {
        "id": "l3v9LnxvUmYT",
        "colab": {
          "base_uri": "https://localhost:8080/"
        },
        "outputId": "4b819d8a-b0b3-4710-8119-cfb35ea36acf"
      },
      "source": [
        "# Checking the missing values \n",
        "\n",
        "merged_df.isnull().sum()"
      ],
      "execution_count": 179,
      "outputs": [
        {
          "output_type": "execute_result",
          "data": {
            "text/plain": [
              "home_team         0\n",
              "away_team         0\n",
              "home_score        0\n",
              "away_score        0\n",
              "tournament        0\n",
              "Status            0\n",
              "year              0\n",
              "month             0\n",
              "home_rank     22303\n",
              "away_rank     22393\n",
              "dtype: int64"
            ]
          },
          "metadata": {},
          "execution_count": 179
        }
      ]
    },
    {
      "cell_type": "code",
      "metadata": {
        "id": "APeHjpxyZ1NJ",
        "colab": {
          "base_uri": "https://localhost:8080/"
        },
        "outputId": "5b6f8747-d1e6-4b05-eff9-1511c9548065"
      },
      "source": [
        "# There are missing values because of difference in data collection from the original datasets\n",
        "\n",
        "merged_df.dropna(inplace=True)\n",
        "\n",
        "# Confirming there are no missing values\n",
        "\n",
        "merged_df.isnull().sum()"
      ],
      "execution_count": 180,
      "outputs": [
        {
          "output_type": "execute_result",
          "data": {
            "text/plain": [
              "home_team     0\n",
              "away_team     0\n",
              "home_score    0\n",
              "away_score    0\n",
              "tournament    0\n",
              "Status        0\n",
              "year          0\n",
              "month         0\n",
              "home_rank     0\n",
              "away_rank     0\n",
              "dtype: int64"
            ]
          },
          "metadata": {},
          "execution_count": 180
        }
      ]
    },
    {
      "cell_type": "code",
      "metadata": {
        "id": "v7ZJXL-3aN9Z",
        "colab": {
          "base_uri": "https://localhost:8080/"
        },
        "outputId": "82c2cc27-cd1a-4d2f-8efd-48214d729777"
      },
      "source": [
        "# Checking for duplicates\n",
        "merged_df.duplicated().sum()"
      ],
      "execution_count": 181,
      "outputs": [
        {
          "output_type": "execute_result",
          "data": {
            "text/plain": [
              "95"
            ]
          },
          "metadata": {},
          "execution_count": 181
        }
      ]
    },
    {
      "cell_type": "code",
      "metadata": {
        "id": "FEne2ItOaRwQ"
      },
      "source": [
        "# Dropping duplicated values for greater accuracy\n",
        "merged_df.drop_duplicates(inplace=True)"
      ],
      "execution_count": 182,
      "outputs": []
    },
    {
      "cell_type": "code",
      "metadata": {
        "id": "zGzlcfHm7uER"
      },
      "source": [
        "# Dropping columns not relevant\n",
        "merged_df1 = merged_df.drop(['home_team', 'away_team'], axis = 1)"
      ],
      "execution_count": 183,
      "outputs": []
    },
    {
      "cell_type": "code",
      "metadata": {
        "id": "ENMBqEsiaaBG",
        "colab": {
          "base_uri": "https://localhost:8080/"
        },
        "outputId": "3a785cb8-f54c-4062-fdb5-42f5ff5c3ac9"
      },
      "source": [
        "# Checking the shape of the cleaned merged dataset\n",
        "merged_df1.shape"
      ],
      "execution_count": 184,
      "outputs": [
        {
          "output_type": "execute_result",
          "data": {
            "text/plain": [
              "(16862, 8)"
            ]
          },
          "metadata": {},
          "execution_count": 184
        }
      ]
    },
    {
      "cell_type": "code",
      "metadata": {
        "id": "fcbX-Ga6bU08"
      },
      "source": [
        "# Encoding the categorical columns\n",
        "le = LabelEncoder()\n",
        "\n",
        "merged_df1['Status'] = le.fit_transform(merged_df1['Status'])\n",
        "merged_df1['tournament'] = le.fit_transform(merged_df1['tournament'])"
      ],
      "execution_count": 185,
      "outputs": []
    },
    {
      "cell_type": "code",
      "metadata": {
        "colab": {
          "base_uri": "https://localhost:8080/",
          "height": 204
        },
        "id": "RSjX5aRf_Tb0",
        "outputId": "1fcf7d8e-1ffb-4e81-a289-303f644ab18f"
      },
      "source": [
        "# Previewing our dataset\n",
        "merged_df1.head()"
      ],
      "execution_count": 186,
      "outputs": [
        {
          "output_type": "execute_result",
          "data": {
            "text/html": [
              "<div>\n",
              "<style scoped>\n",
              "    .dataframe tbody tr th:only-of-type {\n",
              "        vertical-align: middle;\n",
              "    }\n",
              "\n",
              "    .dataframe tbody tr th {\n",
              "        vertical-align: top;\n",
              "    }\n",
              "\n",
              "    .dataframe thead th {\n",
              "        text-align: right;\n",
              "    }\n",
              "</style>\n",
              "<table border=\"1\" class=\"dataframe\">\n",
              "  <thead>\n",
              "    <tr style=\"text-align: right;\">\n",
              "      <th></th>\n",
              "      <th>home_score</th>\n",
              "      <th>away_score</th>\n",
              "      <th>tournament</th>\n",
              "      <th>Status</th>\n",
              "      <th>year</th>\n",
              "      <th>month</th>\n",
              "      <th>home_rank</th>\n",
              "      <th>away_rank</th>\n",
              "    </tr>\n",
              "  </thead>\n",
              "  <tbody>\n",
              "    <tr>\n",
              "      <th>17910</th>\n",
              "      <td>0</td>\n",
              "      <td>0</td>\n",
              "      <td>1</td>\n",
              "      <td>0</td>\n",
              "      <td>1993</td>\n",
              "      <td>8</td>\n",
              "      <td>19.0</td>\n",
              "      <td>67.0</td>\n",
              "    </tr>\n",
              "    <tr>\n",
              "      <th>17911</th>\n",
              "      <td>0</td>\n",
              "      <td>1</td>\n",
              "      <td>1</td>\n",
              "      <td>1</td>\n",
              "      <td>1993</td>\n",
              "      <td>8</td>\n",
              "      <td>70.0</td>\n",
              "      <td>5.0</td>\n",
              "    </tr>\n",
              "    <tr>\n",
              "      <th>17912</th>\n",
              "      <td>0</td>\n",
              "      <td>0</td>\n",
              "      <td>1</td>\n",
              "      <td>0</td>\n",
              "      <td>1993</td>\n",
              "      <td>8</td>\n",
              "      <td>22.0</td>\n",
              "      <td>35.0</td>\n",
              "    </tr>\n",
              "    <tr>\n",
              "      <th>17913</th>\n",
              "      <td>1</td>\n",
              "      <td>5</td>\n",
              "      <td>1</td>\n",
              "      <td>1</td>\n",
              "      <td>1993</td>\n",
              "      <td>8</td>\n",
              "      <td>94.0</td>\n",
              "      <td>8.0</td>\n",
              "    </tr>\n",
              "    <tr>\n",
              "      <th>17914</th>\n",
              "      <td>0</td>\n",
              "      <td>0</td>\n",
              "      <td>1</td>\n",
              "      <td>0</td>\n",
              "      <td>1993</td>\n",
              "      <td>8</td>\n",
              "      <td>58.0</td>\n",
              "      <td>25.0</td>\n",
              "    </tr>\n",
              "  </tbody>\n",
              "</table>\n",
              "</div>"
            ],
            "text/plain": [
              "       home_score  away_score  tournament  ...  month  home_rank  away_rank\n",
              "17910           0           0           1  ...      8       19.0       67.0\n",
              "17911           0           1           1  ...      8       70.0        5.0\n",
              "17912           0           0           1  ...      8       22.0       35.0\n",
              "17913           1           5           1  ...      8       94.0        8.0\n",
              "17914           0           0           1  ...      8       58.0       25.0\n",
              "\n",
              "[5 rows x 8 columns]"
            ]
          },
          "metadata": {},
          "execution_count": 186
        }
      ]
    },
    {
      "cell_type": "markdown",
      "metadata": {
        "id": "Qae8vrMRAkEU"
      },
      "source": [
        "## **Multicollinearity**"
      ]
    },
    {
      "cell_type": "code",
      "metadata": {
        "colab": {
          "base_uri": "https://localhost:8080/",
          "height": 266
        },
        "id": "lqw0cPav_VF9",
        "outputId": "36495d2b-c283-4301-c7b2-4e004fe09903"
      },
      "source": [
        "# Picking independent variables only \n",
        "ind_df = merged_df1[['home_rank','year', 'month', 'tournament', 'away_score', 'away_rank', 'Status']]\n",
        "\n",
        "# Dispalying the correlation between indepent variables\n",
        "correlations = ind_df.corr()\n",
        "\n",
        "# Using Variance Inflation Factor(VIF) \n",
        "pd.DataFrame(np.linalg.inv(correlations.values), index=correlations.index, columns=correlations.columns)"
      ],
      "execution_count": 187,
      "outputs": [
        {
          "output_type": "execute_result",
          "data": {
            "text/html": [
              "<div>\n",
              "<style scoped>\n",
              "    .dataframe tbody tr th:only-of-type {\n",
              "        vertical-align: middle;\n",
              "    }\n",
              "\n",
              "    .dataframe tbody tr th {\n",
              "        vertical-align: top;\n",
              "    }\n",
              "\n",
              "    .dataframe thead th {\n",
              "        text-align: right;\n",
              "    }\n",
              "</style>\n",
              "<table border=\"1\" class=\"dataframe\">\n",
              "  <thead>\n",
              "    <tr style=\"text-align: right;\">\n",
              "      <th></th>\n",
              "      <th>home_rank</th>\n",
              "      <th>year</th>\n",
              "      <th>month</th>\n",
              "      <th>tournament</th>\n",
              "      <th>away_score</th>\n",
              "      <th>away_rank</th>\n",
              "      <th>Status</th>\n",
              "    </tr>\n",
              "  </thead>\n",
              "  <tbody>\n",
              "    <tr>\n",
              "      <th>home_rank</th>\n",
              "      <td>1.527683</td>\n",
              "      <td>-0.070304</td>\n",
              "      <td>-0.009168</td>\n",
              "      <td>-0.044274</td>\n",
              "      <td>-0.427067</td>\n",
              "      <td>-0.837386</td>\n",
              "      <td>0.253475</td>\n",
              "    </tr>\n",
              "    <tr>\n",
              "      <th>year</th>\n",
              "      <td>-0.070304</td>\n",
              "      <td>1.017252</td>\n",
              "      <td>0.001895</td>\n",
              "      <td>0.028877</td>\n",
              "      <td>0.016171</td>\n",
              "      <td>-0.080911</td>\n",
              "      <td>0.030719</td>\n",
              "    </tr>\n",
              "    <tr>\n",
              "      <th>month</th>\n",
              "      <td>-0.009168</td>\n",
              "      <td>0.001895</td>\n",
              "      <td>1.015837</td>\n",
              "      <td>-0.120479</td>\n",
              "      <td>-0.016674</td>\n",
              "      <td>-0.019375</td>\n",
              "      <td>-0.006875</td>\n",
              "    </tr>\n",
              "    <tr>\n",
              "      <th>tournament</th>\n",
              "      <td>-0.044274</td>\n",
              "      <td>0.028877</td>\n",
              "      <td>-0.120479</td>\n",
              "      <td>1.025035</td>\n",
              "      <td>-0.043180</td>\n",
              "      <td>-0.045504</td>\n",
              "      <td>-0.049779</td>\n",
              "    </tr>\n",
              "    <tr>\n",
              "      <th>away_score</th>\n",
              "      <td>-0.427067</td>\n",
              "      <td>0.016171</td>\n",
              "      <td>-0.016674</td>\n",
              "      <td>-0.043180</td>\n",
              "      <td>1.204887</td>\n",
              "      <td>0.384266</td>\n",
              "      <td>0.161977</td>\n",
              "    </tr>\n",
              "    <tr>\n",
              "      <th>away_rank</th>\n",
              "      <td>-0.837386</td>\n",
              "      <td>-0.080911</td>\n",
              "      <td>-0.019375</td>\n",
              "      <td>-0.045504</td>\n",
              "      <td>0.384266</td>\n",
              "      <td>1.545979</td>\n",
              "      <td>-0.334138</td>\n",
              "    </tr>\n",
              "    <tr>\n",
              "      <th>Status</th>\n",
              "      <td>0.253475</td>\n",
              "      <td>0.030719</td>\n",
              "      <td>-0.006875</td>\n",
              "      <td>-0.049779</td>\n",
              "      <td>0.161977</td>\n",
              "      <td>-0.334138</td>\n",
              "      <td>1.142857</td>\n",
              "    </tr>\n",
              "  </tbody>\n",
              "</table>\n",
              "</div>"
            ],
            "text/plain": [
              "            home_rank      year     month  ...  away_score  away_rank    Status\n",
              "home_rank    1.527683 -0.070304 -0.009168  ...   -0.427067  -0.837386  0.253475\n",
              "year        -0.070304  1.017252  0.001895  ...    0.016171  -0.080911  0.030719\n",
              "month       -0.009168  0.001895  1.015837  ...   -0.016674  -0.019375 -0.006875\n",
              "tournament  -0.044274  0.028877 -0.120479  ...   -0.043180  -0.045504 -0.049779\n",
              "away_score  -0.427067  0.016171 -0.016674  ...    1.204887   0.384266  0.161977\n",
              "away_rank   -0.837386 -0.080911 -0.019375  ...    0.384266   1.545979 -0.334138\n",
              "Status       0.253475  0.030719 -0.006875  ...    0.161977  -0.334138  1.142857\n",
              "\n",
              "[7 rows x 7 columns]"
            ]
          },
          "metadata": {},
          "execution_count": 187
        }
      ]
    },
    {
      "cell_type": "markdown",
      "metadata": {
        "id": "saaBrVQaGYi_"
      },
      "source": [
        "##### The matrix above shows that there are some correlation but not enough to be overly concerned since the VIF is below 5."
      ]
    },
    {
      "cell_type": "markdown",
      "metadata": {
        "id": "Z11WSJz7G3KD"
      },
      "source": [
        "## **Building the models**\n",
        "####  i) Approach One: Polynomial Regression"
      ]
    },
    {
      "cell_type": "markdown",
      "metadata": {
        "id": "s1TTUZ8dIFS9"
      },
      "source": [
        "##### Model 1: Predict how many goals the home team scores"
      ]
    },
    {
      "cell_type": "code",
      "metadata": {
        "colab": {
          "base_uri": "https://localhost:8080/"
        },
        "id": "oAENw8cwFMJN",
        "outputId": "f104d8a2-3384-4cfa-e63b-78512eb6ea4c"
      },
      "source": [
        "# Select the columns needed for predicting as instructed\n",
        "\n",
        "md_1 = merged_df1[[ 'home_rank', 'away_rank', 'tournament', 'home_score', 'Status']]\n",
        "\n",
        "md_1.shape"
      ],
      "execution_count": 197,
      "outputs": [
        {
          "output_type": "execute_result",
          "data": {
            "text/plain": [
              "(16862, 5)"
            ]
          },
          "metadata": {},
          "execution_count": 197
        }
      ]
    },
    {
      "cell_type": "code",
      "metadata": {
        "id": "oR1gsD25I0ll"
      },
      "source": [
        "# Selecting the target variable and the feature\n",
        "X = md_1[['home_rank', 'away_rank', 'tournament', 'Status']].values\n",
        "y = md_1['home_score'].values"
      ],
      "execution_count": 198,
      "outputs": []
    },
    {
      "cell_type": "code",
      "metadata": {
        "id": "oYFb6XKsLA4r"
      },
      "source": [
        "# Split the target and feature\n",
        "X_train, X_test, y_train, y_test = train_test_split(X,y, test_size=0.2,random_state=0)"
      ],
      "execution_count": 199,
      "outputs": []
    },
    {
      "cell_type": "code",
      "metadata": {
        "colab": {
          "base_uri": "https://localhost:8080/"
        },
        "id": "WJgeZaN8N31Z",
        "outputId": "1efd2c86-5cdf-4eb2-a5ad-2db642243815"
      },
      "source": [
        "# Fitting Polynomial Regression to the dataset\n",
        "poly_reg = PolynomialFeatures(degree=4)\n",
        "X_poly = poly_reg.fit_transform(X)\n",
        "\n",
        "pol_reg = LinearRegression()\n",
        "pol_reg.fit(X_poly,y)"
      ],
      "execution_count": 204,
      "outputs": [
        {
          "output_type": "execute_result",
          "data": {
            "text/plain": [
              "LinearRegression()"
            ]
          },
          "metadata": {},
          "execution_count": 204
        }
      ]
    },
    {
      "cell_type": "code",
      "metadata": {
        "id": "3YJsjpkCQbvB"
      },
      "source": [
        "\n",
        "# Predicting using Polynomial Regression\n",
        "poly_pred = pol_reg.predict(X_poly)\n",
        "\n",
        "# predicting using Linear Regression\n",
        "pol_reg = LinearRegression()\n",
        "\n",
        "Lin = pol_reg.fit(X_poly, y)\n",
        "\n",
        "y_pred = pol_reg.predict(poly_reg.fit_transform(X_test))"
      ],
      "execution_count": 221,
      "outputs": []
    },
    {
      "cell_type": "code",
      "metadata": {
        "colab": {
          "base_uri": "https://localhost:8080/"
        },
        "id": "m8_Cir3BVcxm",
        "outputId": "aa625bce-9dd3-431d-917b-68a3caa343ce"
      },
      "source": [
        "# Evaluating our Model\n",
        "\n",
        "print('RMSE: ', np.sqrt(mean_squared_error(y,poly_pred)))\n"
      ],
      "execution_count": 218,
      "outputs": [
        {
          "output_type": "stream",
          "name": "stdout",
          "text": [
            "RMSE:  1.1852695738596515\n"
          ]
        }
      ]
    },
    {
      "cell_type": "code",
      "metadata": {
        "colab": {
          "base_uri": "https://localhost:8080/"
        },
        "id": "qcSqL9LAULjw",
        "outputId": "49ca2fb3-3685-4dd4-87ea-1e9e2640b747"
      },
      "source": [
        "# Mean of the Actual Scores\n",
        "np.mean(y)"
      ],
      "execution_count": 219,
      "outputs": [
        {
          "output_type": "execute_result",
          "data": {
            "text/plain": [
              "1.604673229747361"
            ]
          },
          "metadata": {},
          "execution_count": 219
        }
      ]
    },
    {
      "cell_type": "code",
      "metadata": {
        "colab": {
          "base_uri": "https://localhost:8080/"
        },
        "id": "6Sgp2z_aW-bO",
        "outputId": "3378d4ae-498c-483e-ae9a-43cac50e565a"
      },
      "source": [
        "# Residual\n",
        "residuals = np.subtract(y_pred, y_test)\n",
        "\n",
        "# Describing residual\n",
        "pd.DataFrame(residuals).describe()\n",
        "\n",
        "residuals.mean()"
      ],
      "execution_count": 222,
      "outputs": [
        {
          "output_type": "execute_result",
          "data": {
            "text/plain": [
              "0.023916588032989048"
            ]
          },
          "metadata": {},
          "execution_count": 222
        }
      ]
    },
    {
      "cell_type": "code",
      "metadata": {
        "colab": {
          "base_uri": "https://localhost:8080/",
          "height": 295
        },
        "id": "fkOrJqeAYGXC",
        "outputId": "0c46da13-772e-4233-f45c-8b5d95bc6ca0"
      },
      "source": [
        "# Visualizing\n",
        "plt.scatter(y_pred, residuals, color='blue') \n",
        "plt.title('Residual')\n",
        "plt.xlabel('Fitted Values')\n",
        "plt.axhline(y=residuals.mean(), color= 'red', linewidth=1)\n",
        "plt.show()"
      ],
      "execution_count": 223,
      "outputs": [
        {
          "output_type": "display_data",
          "data": {
            "image/png": "[encoded data removed]",
            "text/plain": [
              "<Figure size 432x288 with 1 Axes>"
            ]
          },
          "metadata": {
            "needs_background": "light"
          }
        }
      ]
    },
    {
      "cell_type": "markdown",
      "metadata": {
        "id": "LiMz5RY0ZjHo"
      },
      "source": [
        "##### **Performing Heteroskedasticity Test**"
      ]
    },
    {
      "cell_type": "code",
      "metadata": {
        "colab": {
          "base_uri": "https://localhost:8080/"
        },
        "id": "H-lQKIKMZPdo",
        "outputId": "2d22569e-dcfc-4a17-b9a1-301c6bedb340"
      },
      "source": [
        "test_result, p_value = sp.stats.bartlett(y_pred, residuals)\n",
        "\n",
        "# To interpret the results we must also compute a critical value of the chi squared distribution\n",
        "degree_of_freedom = len(y_pred)-1\n",
        "probability = 1 - p_value\n",
        "\n",
        "critical_value = sp.stats.chi2.ppf(probability, degree_of_freedom)\n",
        "print(p_value)\n",
        "\n",
        "# If the test_result is greater than the critical value, then we reject our null\n",
        "# hypothesis. This would mean that there are patterns to the variance of the data\n",
        "\n",
        "# Otherwise, we can identify no patterns, and we accept the null hypothesis that \n",
        "# the variance is homogeneous across our data\n",
        "\n",
        "if (test_result > critical_value):\n",
        "  print('The variances are unequal, and the model should be reassessed')\n",
        "else:\n",
        "  print('The variances are homogeneous!')"
      ],
      "execution_count": 226,
      "outputs": [
        {
          "output_type": "stream",
          "name": "stdout",
          "text": [
            "0.19866303009820854\n",
            "The variances are homogeneous!\n"
          ]
        }
      ]
    },
    {
      "cell_type": "markdown",
      "metadata": {
        "id": "7yN6CkqUaSn5"
      },
      "source": [
        "Model 2: Predicting how many goals the away team scores"
      ]
    },
    {
      "cell_type": "code",
      "metadata": {
        "id": "svStvX87aLeg"
      },
      "source": [
        "# Selecting the target variable and the feature\n",
        "X = merged_df1[['home_rank', 'away_rank', 'tournament', 'Status']].values\n",
        "y = merged_df1['away_score'].values"
      ],
      "execution_count": 229,
      "outputs": []
    },
    {
      "cell_type": "code",
      "metadata": {
        "id": "IN6Df8dVal0t"
      },
      "source": [
        "# Split the target and feature\n",
        "X_train, X_test, y_train, y_test = train_test_split(X,y, test_size=0.2,random_state=0)"
      ],
      "execution_count": 230,
      "outputs": []
    },
    {
      "cell_type": "code",
      "metadata": {
        "colab": {
          "base_uri": "https://localhost:8080/"
        },
        "id": "LdmGN7lia8Vc",
        "outputId": "2b3a006e-9533-4fc2-bab6-f8e426c4acb9"
      },
      "source": [
        "# Fitting Polynomial Regression to the dataset\n",
        "poly_reg = PolynomialFeatures(degree=4)\n",
        "X_poly = poly_reg.fit_transform(X)\n",
        "\n",
        "pol_reg = LinearRegression()\n",
        "pol_reg.fit(X_poly,y)"
      ],
      "execution_count": 231,
      "outputs": [
        {
          "output_type": "execute_result",
          "data": {
            "text/plain": [
              "LinearRegression()"
            ]
          },
          "metadata": {},
          "execution_count": 231
        }
      ]
    },
    {
      "cell_type": "code",
      "metadata": {
        "colab": {
          "base_uri": "https://localhost:8080/"
        },
        "id": "g3Ku0D2sbCU7",
        "outputId": "355b94d1-e89c-433e-914f-f45cda3af3a4"
      },
      "source": [
        "# Evaluating our Model\n",
        "\n",
        "print('RMSE: ', np.sqrt(mean_squared_error(y,poly_pred)))\n"
      ],
      "execution_count": 232,
      "outputs": [
        {
          "output_type": "stream",
          "name": "stdout",
          "text": [
            "RMSE:  2.106934875420575\n"
          ]
        }
      ]
    },
    {
      "cell_type": "code",
      "metadata": {
        "colab": {
          "base_uri": "https://localhost:8080/"
        },
        "id": "zwfRpcXkbFPz",
        "outputId": "e22c6087-1310-4b9b-ad02-f87eaaac4904"
      },
      "source": [
        "# Mean of the Actual Scores\n",
        "np.mean(y)"
      ],
      "execution_count": 233,
      "outputs": [
        {
          "output_type": "execute_result",
          "data": {
            "text/plain": [
              "1.0696240066421538"
            ]
          },
          "metadata": {},
          "execution_count": 233
        }
      ]
    },
    {
      "cell_type": "code",
      "metadata": {
        "colab": {
          "base_uri": "https://localhost:8080/"
        },
        "id": "6iRa2tdQbJTr",
        "outputId": "a7857c59-ab87-444d-8665-feb87f3bb652"
      },
      "source": [
        "# Residual\n",
        "residuals = np.subtract(y_pred, y_test)\n",
        "\n",
        "# Describing residual\n",
        "pd.DataFrame(residuals).describe()\n",
        "\n",
        "residuals.mean()"
      ],
      "execution_count": 234,
      "outputs": [
        {
          "output_type": "execute_result",
          "data": {
            "text/plain": [
              "0.5394813671613614"
            ]
          },
          "metadata": {},
          "execution_count": 234
        }
      ]
    },
    {
      "cell_type": "code",
      "metadata": {
        "colab": {
          "base_uri": "https://localhost:8080/",
          "height": 295
        },
        "id": "UIGQrxsJbNH7",
        "outputId": "9af53981-f6f1-4e68-ddfd-733acc8758fd"
      },
      "source": [
        "# Visualizing\n",
        "plt.scatter(y_pred, residuals, color='blue') \n",
        "plt.title('Residual')\n",
        "plt.xlabel('Fitted Values')\n",
        "plt.axhline(y=residuals.mean(), color= 'red', linewidth=1)\n",
        "plt.show()"
      ],
      "execution_count": 235,
      "outputs": [
        {
          "output_type": "display_data",
          "data": {
            "image/png": "[encoded data removed]",
            "text/plain": [
              "<Figure size 432x288 with 1 Axes>"
            ]
          },
          "metadata": {
            "needs_background": "light"
          }
        }
      ]
    },
    {
      "cell_type": "markdown",
      "metadata": {
        "id": "0X-MqZTYbdA4"
      },
      "source": [
        "##### **Performing Heteroskedasticity Test**"
      ]
    },
    {
      "cell_type": "code",
      "metadata": {
        "colab": {
          "base_uri": "https://localhost:8080/"
        },
        "id": "ML2s7r4XbQEp",
        "outputId": "36eea1bc-7ae5-4031-ff7b-9c1a8a2bc41b"
      },
      "source": [
        "test_result, p_value = sp.stats.bartlett(y_pred, residuals)\n",
        "\n",
        "# To interpret the results we must also compute a critical value of the chi squared distribution\n",
        "degree_of_freedom = len(y_pred)-1\n",
        "probability = 1 - p_value\n",
        "\n",
        "critical_value = sp.stats.chi2.ppf(probability, degree_of_freedom)\n",
        "print(p_value)\n",
        "\n",
        "# If the test_result is greater than the critical value, then we reject our null\n",
        "# hypothesis. This would mean that there are patterns to the variance of the data\n",
        "\n",
        "# Otherwise, we can identify no patterns, and we accept the null hypothesis that \n",
        "# the variance is homogeneous across our data\n",
        "\n",
        "if (test_result > critical_value):\n",
        "  print('The variances are unequal, and the model should be reassessed')\n",
        "else:\n",
        "  print('The variances are homogeneous!')"
      ],
      "execution_count": 236,
      "outputs": [
        {
          "output_type": "stream",
          "name": "stdout",
          "text": [
            "2.592520191152872e-274\n",
            "The variances are homogeneous!\n"
          ]
        }
      ]
    },
    {
      "cell_type": "markdown",
      "metadata": {
        "id": "bdT7SKQ0brjh"
      },
      "source": [
        "## **Logistic Regression**"
      ]
    },
    {
      "cell_type": "code",
      "metadata": {
        "id": "sY9ds2upbWli"
      },
      "source": [
        "# Selecting the target variable and the feature\n",
        "X = merged_df1[['home_rank', 'away_rank', 'tournament', 'home_score', 'away_score']].values\n",
        "y = merged_df1['Status'].values"
      ],
      "execution_count": 238,
      "outputs": []
    },
    {
      "cell_type": "code",
      "metadata": {
        "id": "SmNi3-SdcC3i"
      },
      "source": [
        "# Split the target and feature\n",
        "X_train, X_test, y_train, y_test = train_test_split(X,y, test_size=0.2,random_state=0)"
      ],
      "execution_count": 239,
      "outputs": []
    },
    {
      "cell_type": "code",
      "metadata": {
        "colab": {
          "base_uri": "https://localhost:8080/"
        },
        "id": "c4_PPck6ccsr",
        "outputId": "94046d60-092d-4112-bdd4-59174a852679"
      },
      "source": [
        "#Performing feature scaling:\n",
        "sc = StandardScaler()\n",
        "X_train = sc.fit_transform(X_train)\n",
        "X_test = sc.transform(X_test)\n",
        "\n",
        "#Model Selection:\n",
        "model = LogisticRegression()\n",
        "\n",
        "#Fitting the model:\n",
        "model.fit(X_train,y_train)"
      ],
      "execution_count": 240,
      "outputs": [
        {
          "output_type": "execute_result",
          "data": {
            "text/plain": [
              "LogisticRegression()"
            ]
          },
          "metadata": {},
          "execution_count": 240
        }
      ]
    },
    {
      "cell_type": "code",
      "metadata": {
        "colab": {
          "base_uri": "https://localhost:8080/"
        },
        "id": "NWoed8BOcgyh",
        "outputId": "5b46106b-347a-4e34-fdb6-22212cba0371"
      },
      "source": [
        "#Predicting the value:\n",
        "predictions = model.predict(X_test)\n",
        "\n",
        "#Checking the accuracy:\n",
        "print(\"Accuracy:\",model.score(X_test, y_test )* 100)"
      ],
      "execution_count": 241,
      "outputs": [
        {
          "output_type": "stream",
          "name": "stdout",
          "text": [
            "Accuracy: 100.0\n"
          ]
        }
      ]
    },
    {
      "cell_type": "code",
      "metadata": {
        "colab": {
          "base_uri": "https://localhost:8080/"
        },
        "id": "I-gVmr0Gcj9x",
        "outputId": "42faeec6-4aba-49e6-ae3c-b466e0eb3b4d"
      },
      "source": [
        "#Checking precision:\n",
        "print(classification_report(y_test, predictions))"
      ],
      "execution_count": 242,
      "outputs": [
        {
          "output_type": "stream",
          "name": "stdout",
          "text": [
            "              precision    recall  f1-score   support\n",
            "\n",
            "           0       1.00      1.00      1.00       793\n",
            "           1       1.00      1.00      1.00       942\n",
            "           2       1.00      1.00      1.00      1638\n",
            "\n",
            "    accuracy                           1.00      3373\n",
            "   macro avg       1.00      1.00      1.00      3373\n",
            "weighted avg       1.00      1.00      1.00      3373\n",
            "\n"
          ]
        }
      ]
    },
    {
      "cell_type": "code",
      "metadata": {
        "colab": {
          "base_uri": "https://localhost:8080/"
        },
        "id": "h3pGEIWxcrHz",
        "outputId": "95c2a550-b054-43f7-9b23-94d78b4cdc52"
      },
      "source": [
        "#Confusion matrix:\n",
        "predictions = model.predict(X_test)\n",
        "from sklearn.metrics import confusion_matrix\n",
        "confusion_matrix = confusion_matrix(y_test,predictions)\n",
        "confusion_matrix"
      ],
      "execution_count": 243,
      "outputs": [
        {
          "output_type": "execute_result",
          "data": {
            "text/plain": [
              "array([[ 793,    0,    0],\n",
              "       [   0,  942,    0],\n",
              "       [   0,    0, 1638]])"
            ]
          },
          "metadata": {},
          "execution_count": 243
        }
      ]
    },
    {
      "cell_type": "markdown",
      "metadata": {
        "id": "fT-jUmSwdGZQ"
      },
      "source": [
        "## **Cross Validation**"
      ]
    },
    {
      "cell_type": "code",
      "metadata": {
        "colab": {
          "base_uri": "https://localhost:8080/"
        },
        "id": "MZ95l59bc3rD",
        "outputId": "73a469ed-0799-4411-8b67-7695f44082f5"
      },
      "source": [
        "X = merged_df1[['home_rank', 'away_rank', 'tournament', 'home_score', 'away_score']].values\n",
        "y = merged_df1['Status'].values\n",
        "\n",
        "\n",
        "folds = RepeatedKFold(n_splits=5, n_repeats=2)\n",
        "\n",
        "# note that if you have a KFold object, you can figure out how many folds you set up \n",
        "# for it using get_n_splits\n",
        "print('we are using ' +str(folds.get_n_splits(X)) + ' folds')\n",
        "\n",
        "# We now create and assess 5 models based on the folds we created.\n",
        "RMSES = [] # We will use this array to keep track of the RSME of each model\n",
        "count = 0 # This will just help \n",
        "for train_index, test_index in folds.split(X):\n",
        "  print('\\nTraining Model ' +str(count))\n",
        "  \n",
        "  # set up the train and test based on the split determined by KFold\n",
        "  # With 5 folds, we will end up with 80% of our data in the training set, and 20% in the test set, just as above\n",
        "  X_train, X_test = X[train_index], X[test_index]\n",
        "  y_train, y_test = y[train_index], y[test_index]\n",
        "  \n",
        "  # fit a model accordingly\n",
        "  LogReg = LinearRegression()  \n",
        "  LogReg.fit(X_train, y_train)\n",
        "  \n",
        "  # assess the accuraccy of the model\n",
        "  y_pred = LogReg.predict(X_test)\n",
        "  \n",
        "  rmse_value =  np.sqrt(metrics.mean_squared_error(y_test, y_pred))\n",
        "  RMSES.append(rmse_value)\n",
        "  \n",
        "  \n",
        "  print('Model ' + str(count) + ' Root Mean Squared Error', rmse_value )\n",
        "  count = count + 1\n",
        "\n",
        "print('\\n')\n",
        "np.mean(RMSES)"
      ],
      "execution_count": 252,
      "outputs": [
        {
          "output_type": "stream",
          "name": "stdout",
          "text": [
            "we are using 10 folds\n",
            "\n",
            "Training Model 0\n",
            "Model 0 Root Mean Squared Error 0.6824449426323143\n",
            "\n",
            "Training Model 1\n",
            "Model 1 Root Mean Squared Error 0.6711932068164317\n",
            "\n",
            "Training Model 2\n",
            "Model 2 Root Mean Squared Error 0.6827276053555683\n",
            "\n",
            "Training Model 3\n",
            "Model 3 Root Mean Squared Error 0.6974087169365425\n",
            "\n",
            "Training Model 4\n",
            "Model 4 Root Mean Squared Error 0.6827656157555181\n",
            "\n",
            "Training Model 5\n",
            "Model 5 Root Mean Squared Error 0.6947899730888161\n",
            "\n",
            "Training Model 6\n",
            "Model 6 Root Mean Squared Error 0.683082171145309\n",
            "\n",
            "Training Model 7\n",
            "Model 7 Root Mean Squared Error 0.6787001346842683\n",
            "\n",
            "Training Model 8\n",
            "Model 8 Root Mean Squared Error 0.6743945777620493\n",
            "\n",
            "Training Model 9\n",
            "Model 9 Root Mean Squared Error 0.6842081136992255\n",
            "\n",
            "\n"
          ]
        },
        {
          "output_type": "execute_result",
          "data": {
            "text/plain": [
              "0.6831715057876042"
            ]
          },
          "metadata": {},
          "execution_count": 252
        }
      ]
    },
    {
      "cell_type": "code",
      "metadata": {
        "id": "n8LSaoHHdVg1"
      },
      "source": [
        ""
      ],
      "execution_count": null,
      "outputs": []
    }
  ]
}